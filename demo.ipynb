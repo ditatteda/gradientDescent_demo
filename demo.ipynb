{
 "cells": [
  {
   "cell_type": "markdown",
   "metadata": {},
   "source": [
    "# **Gradient Descent Demo**"
   ]
  },
  {
   "cell_type": "code",
   "execution_count": 85,
   "metadata": {},
   "outputs": [],
   "source": [
    "import numpy as np\n",
    "import matplotlib.pyplot as plt\n",
    "from matplotlib import cm"
   ]
  },
  {
   "cell_type": "markdown",
   "metadata": {},
   "source": [
    "## **Data**"
   ]
  },
  {
   "cell_type": "code",
   "execution_count": 86,
   "metadata": {},
   "outputs": [],
   "source": [
    "x_data = np.array([ 338., 333., 328., 207., 226., 25., 179., 60., 208.,606.])\n",
    "y_data = np.array([ 640., 633., 619., 393., 428., 27., 193., 66., 226., 1591.])"
   ]
  },
  {
   "cell_type": "markdown",
   "metadata": {},
   "source": [
    "## **Model**"
   ]
  },
  {
   "cell_type": "code",
   "execution_count": 87,
   "metadata": {},
   "outputs": [],
   "source": [
    "# y = b + w * x\n",
    "b = -120\n",
    "w = -4\n",
    "lr = 0.000001\n",
    "iteration = 100000\n",
    "\n",
    "# recording history bias and weight\n",
    "b_history = [b]\n",
    "w_history = [w]\n",
    "\n",
    "for i in range(iteration):\n",
    "\n",
    "    '''loss = sum_i(y_i - b - w x_i)**2\n",
    "    loss_db = sum_i 2(y_i - b - w x_i)(-1)\n",
    "    loss_dw = sum_i 2(y_i - b - w x_i)(-x_i)\n",
    "    b_n+1 = b_n - lr loss_db = b_n + lr 2(y - b - w x).sum()\n",
    "    '''\n",
    "\n",
    "    # update bias and weight\n",
    "    b = b + lr * 2 * ((y_data - b - w * x_data).sum())\n",
    "    w = w + lr * 2 * (((y_data - b - w * x_data) * x_data).sum())\n",
    "    b_history.append(b)\n",
    "    w_history.append(w)\n"
   ]
  },
  {
   "cell_type": "markdown",
   "metadata": {},
   "source": [
    "## **Plotting**"
   ]
  },
  {
   "cell_type": "code",
   "execution_count": 88,
   "metadata": {},
   "outputs": [],
   "source": [
    "# Prepare Grid\n",
    "b_grid = np.arange(-200, -100, 1)           # bias\n",
    "w_grid = np.arange(-5, 5, 0.1)              # weight\n",
    "loss = np.zeros((len(b_grid), len(w_grid))) # loss\n",
    "#X, Y = np.meshgrid(b_grid, w_grid)\n",
    "# calculate loss\n",
    "for i in range(len(b_grid)):\n",
    "    for j in range(len(w_grid)):\n",
    "        loss[j][i] = ((y_data - (b_grid[i] + w_grid[j] * x_data))**2).mean()"
   ]
  },
  {
   "cell_type": "code",
   "execution_count": 89,
   "metadata": {},
   "outputs": [
    {
     "data": {
      "image/png": "[encoded data removed]",
      "text/plain": [
       "<Figure size 640x480 with 1 Axes>"
      ]
     },
     "metadata": {},
     "output_type": "display_data"
    }
   ],
   "source": [
    "plt.contourf(b_grid, w_grid, loss, 50, alpha=0.5, cmap = plt.get_cmap(\"jet\"))\n",
    "plt.plot([-188.4], [2.67], \"x\", ms=12, markeredgewidth=3, color=\"orange\")\n",
    "plt.plot(b_history, w_history, \"o-\", ms=3, lw=1.5, color=\"black\")   # ms = markersize, lw = linewidth\n",
    "plt.xlim(-200, -100)\n",
    "plt.ylim(-5, 5)\n",
    "plt.xlabel(r\"$b$\", fontsize=16)\n",
    "plt.ylabel(r\"$w$\", fontsize=16)\n",
    "plt.show()"
   ]
  }
 ],
 "metadata": {
  "kernelspec": {
   "display_name": "complexa_ML21_3a",
   "language": "python",
   "name": "python3"
  },
  "language_info": {
   "codemirror_mode": {
    "name": "ipython",
    "version": 3
   },
   "file_extension": ".py",
   "mimetype": "text/x-python",
   "name": "python",
   "nbconvert_exporter": "python",
   "pygments_lexer": "ipython3",
   "version": "3.10.13"
  }
 },
 "nbformat": 4,
 "nbformat_minor": 2
}
