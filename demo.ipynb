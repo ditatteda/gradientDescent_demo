{
 "cells": [
  {
   "cell_type": "markdown",
   "metadata": {},
   "source": [
    "# **Gradient Descent Demo**"
   ]
  },
  {
   "cell_type": "code",
   "execution_count": 42,
   "metadata": {},
   "outputs": [],
   "source": [
    "import numpy as np\n",
    "import matplotlib.pyplot as plt\n",
    "from matplotlib import cm"
   ]
  },
  {
   "cell_type": "markdown",
   "metadata": {},
   "source": [
    "## **Data**"
   ]
  },
  {
   "cell_type": "code",
   "execution_count": 43,
   "metadata": {},
   "outputs": [],
   "source": [
    "x_data = np.array([ 338., 333., 328., 207., 226., 25., 179., 60., 208.,606.])\n",
    "y_data = np.array([ 640., 633., 619., 393., 428., 27., 193., 66., 226., 1591.])"
   ]
  },
  {
   "cell_type": "markdown",
   "metadata": {},
   "source": [
    "## **Model**\n",
    "\n",
    "* Experiment 1: adjust learning rate 'lr' in Part-I\n",
    "* Experiment 2: use Part-II code"
   ]
  },
  {
   "cell_type": "code",
   "execution_count": 44,
   "metadata": {},
   "outputs": [],
   "source": [
    "# y = b + w * x\n",
    "b = -120\n",
    "w = -4\n",
    "iteration = 100000\n",
    "\n",
    "\n",
    "# Part-I\n",
    "lr = 0.0000001\n",
    "\n",
    "'''\n",
    "# Part-II\n",
    "lr = 1\n",
    "lr_b = 0.\n",
    "lr_w = 0.\n",
    "'''\n",
    "\n",
    "# recording history bias and weight\n",
    "b_history = [b]\n",
    "w_history = [w]\n",
    "\n",
    "for i in range(iteration):\n",
    "\n",
    "    # update bias and weight\n",
    "    b_grad = 2 * (((y_data - b - w * x_data) * (-1)).sum())\n",
    "    w_grad = 2 * (((y_data - b - w * x_data) * (-1 * x_data)).sum())\n",
    "\n",
    "    \n",
    "    # Part-I\n",
    "    b = b - lr * b_grad\n",
    "    w = w - lr * w_grad\n",
    "    \n",
    "\n",
    "    '''\n",
    "    # Part-II\n",
    "    lr_b = lr_b + b_grad**2\n",
    "    lr_w = lr_w + w_grad**2\n",
    "    b = b - lr / np.sqrt(lr_b) * b_grad\n",
    "    w = w - lr / np.sqrt(lr_w) * w_grad\n",
    "    '''\n",
    "\n",
    "    b_history.append(b)\n",
    "    w_history.append(w)\n"
   ]
  },
  {
   "cell_type": "markdown",
   "metadata": {},
   "source": [
    "## **Plotting**"
   ]
  },
  {
   "cell_type": "code",
   "execution_count": 45,
   "metadata": {},
   "outputs": [],
   "source": [
    "# Prepare Grid\n",
    "x_grid = np.arange(-200, -100, 1)           # bias\n",
    "y_grid = np.arange(-5, 5, 0.1)              # weight\n",
    "z = np.zeros((len(y_grid), len(x_grid)))    # loss\n",
    "\n",
    "# calculate loss\n",
    "for i in range(len(x_grid)):\n",
    "    for j in range(len(y_grid)):\n",
    "        z[j][i] = ((y_data - (x_grid[i] + y_grid[j] * x_data))**2).mean()"
   ]
  },
  {
   "cell_type": "code",
   "execution_count": 46,
   "metadata": {},
   "outputs": [
    {
     "data": {
      "image/png": "[encoded data removed]",
      "text/plain": [
       "<Figure size 640x480 with 1 Axes>"
      ]
     },
     "metadata": {},
     "output_type": "display_data"
    }
   ],
   "source": [
    "plt.contourf(x_grid, y_grid, z, 50, alpha=0.5, cmap = plt.get_cmap(\"jet\"))\n",
    "plt.plot([-188.4], [2.67], \"x\", ms=12, markeredgewidth=3, color=\"orange\")\n",
    "plt.plot(b_history, w_history, \"o-\", ms=3, lw=1.5, color=\"black\")   # ms = markersize, lw = linewidth\n",
    "plt.xlim(-200, -100)\n",
    "plt.ylim(-5, 5)\n",
    "plt.xlabel(r\"$b$\", fontsize=16)\n",
    "plt.ylabel(r\"$w$\", fontsize=16)\n",
    "plt.show()"
   ]
  }
 ],
 "metadata": {
  "kernelspec": {
   "display_name": "complexa_ML21_3a",
   "language": "python",
   "name": "python3"
  },
  "language_info": {
   "codemirror_mode": {
    "name": "ipython",
    "version": 3
   },
   "file_extension": ".py",
   "mimetype": "text/x-python",
   "name": "python",
   "nbconvert_exporter": "python",
   "pygments_lexer": "ipython3",
   "version": "3.10.13"
  }
 },
 "nbformat": 4,
 "nbformat_minor": 2
}
